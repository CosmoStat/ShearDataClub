{
  "nbformat": 4,
  "nbformat_minor": 0,
  "metadata": {
    "colab": {
      "name": "DataExploration.ipynb",
      "provenance": [],
      "authorship_tag": "ABX9TyOty1KWQrO5U1dnvr29JvgF",
      "include_colab_link": true
    },
    "kernelspec": {
      "name": "python3",
      "display_name": "Python 3"
    },
    "language_info": {
      "name": "python"
    }
  },
  "cells": [
    {
      "cell_type": "markdown",
      "metadata": {
        "id": "view-in-github",
        "colab_type": "text"
      },
      "source": [
        "<a href=\"https://colab.research.google.com/github/CosmoStat/ShearDataClub/blob/main/KiDS1000/DataExploration.ipynb\" target=\"_parent\"><img src=\"https://colab.research.google.com/assets/colab-badge.svg\" alt=\"Open In Colab\"/></a>"
      ]
    },
    {
      "cell_type": "markdown",
      "metadata": {
        "id": "CMpOIlVr7a2q"
      },
      "source": [
        "# Data exploration of the KiDS-1000 gold shear catalog\n",
        "\n",
        "In this notebook, we are using the data provided here: http://kids.strw.leidenuniv.nl/DR4/KiDS-1000_shearcatalogue.php"
      ]
    },
    {
      "cell_type": "code",
      "metadata": {
        "colab": {
          "base_uri": "https://localhost:8080/"
        },
        "id": "qNYSTn5p44KX",
        "outputId": "2ff64aab-3d39-4946-e793-aa2454d99bbc"
      },
      "source": [
        "# Retrieve the data from fast storage on Google cloud\n",
        "!wget https://storage.googleapis.com/ahw2019/KiDS_DR4.1_ugriZYJHKs_SOM_gold_WL_cat.fits"
      ],
      "execution_count": 1,
      "outputs": [
        {
          "output_type": "stream",
          "text": [
            "Copying gs://ahw2019/KiDS_DR4.1_ugriZYJHKs_SOM_gold_WL_cat.fits...\n",
            "| [1 files][ 16.5 GiB/ 16.5 GiB]   60.9 MiB/s                                   \n",
            "Operation completed over 1 objects/16.5 GiB.                                     \n"
          ],
          "name": "stdout"
        }
      ]
    },
    {
      "cell_type": "code",
      "metadata": {
        "id": "OFjVHPJL4-ZO"
      },
      "source": [
        ""
      ],
      "execution_count": null,
      "outputs": []
    }
  ]
}