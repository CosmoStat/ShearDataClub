{
  "nbformat": 4,
  "nbformat_minor": 0,
  "metadata": {
    "colab": {
      "name": "DataExploration.ipynb",
      "provenance": [],
      "machine_shape": "hm",
      "authorship_tag": "ABX9TyPe2DhE8Ib+7op1n+ZoPWbZ",
      "include_colab_link": true
    },
    "kernelspec": {
      "name": "python3",
      "display_name": "Python 3"
    },
    "language_info": {
      "name": "python"
    }
  },
  "cells": [
    {
      "cell_type": "markdown",
      "metadata": {
        "id": "view-in-github",
        "colab_type": "text"
      },
      "source": [
        "<a href=\"https://colab.research.google.com/github/CosmoStat/ShearDataClub/blob/main/KiDS1000/DataExploration.ipynb\" target=\"_parent\"><img src=\"https://colab.research.google.com/assets/colab-badge.svg\" alt=\"Open In Colab\"/></a>"
      ]
    },
    {
      "cell_type": "markdown",
      "metadata": {
        "id": "CMpOIlVr7a2q"
      },
      "source": [
        "# Data exploration of the KiDS-1000 gold shear catalog\n",
        "\n",
        "In this notebook, we are using the data provided here: http://kids.strw.leidenuniv.nl/DR4/KiDS-1000_shearcatalogue.php"
      ]
    },
    {
      "cell_type": "code",
      "metadata": {
        "id": "qNYSTn5p44KX"
      },
      "source": [
        "# Retrieve the data from fast storage on Google cloud, takes 2mins\n",
        "!wget https://storage.googleapis.com/ahw2019/KiDS_DR4.1_ugriZYJHKs_SOM_gold_WL_cat.fits"
      ],
      "execution_count": null,
      "outputs": []
    },
    {
      "cell_type": "code",
      "metadata": {
        "id": "OFjVHPJL4-ZO"
      },
      "source": [
        "from astropy.table import Table\n",
        "# Loading the data\n",
        "cat = Table.read('KiDS_DR4.1_ugriZYJHKs_SOM_gold_WL_cat.fits')"
      ],
      "execution_count": null,
      "outputs": []
    },
    {
      "cell_type": "code",
      "metadata": {
        "id": "UkskqUHOFPpY"
      },
      "source": [
        ""
      ],
      "execution_count": null,
      "outputs": []
    }
  ]
}