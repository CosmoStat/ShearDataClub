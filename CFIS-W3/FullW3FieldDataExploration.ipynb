{
 "cells": [
  {
   "cell_type": "markdown",
   "metadata": {},
   "source": [
    "# Data exploration of the CFIS-W3 lensing catalog\n",
    "\n",
    "In this notebook, we are using the non-public data of the **full CFIS-W3 field** (50 deg^2) provided elsewhere."
   ]
  },
  {
   "cell_type": "code",
   "execution_count": null,
   "metadata": {},
   "outputs": [],
   "source": [
    "%pylab inline\n",
    "import numpy as np"
   ]
  },
  {
   "cell_type": "markdown",
   "metadata": {},
   "source": [
    "## 1st session\n",
    "Look at some basic quantities in catalogue (positions, flags, magnitude, ...)"
   ]
  },
  {
   "cell_type": "code",
   "execution_count": null,
   "metadata": {},
   "outputs": [],
   "source": [
    "# Load catalogue (numpy file)\n",
    "dd = np.load('./catalogue_CFIS_W3/final_cat.npy')"
   ]
  },
  {
   "cell_type": "markdown",
   "metadata": {},
   "source": [
    "**SExtractor denominations:**\n",
    "\n",
    "- XWIN_WORLD: RA\n",
    "- YWIN_WORLD: DEC\n",
    "\n",
    "Shape measurement is done with ngmix: model fitting (mixture of gaussians), easy to process metacalibration with it"
   ]
  },
  {
   "cell_type": "code",
   "execution_count": null,
   "metadata": {},
   "outputs": [],
   "source": [
    "# Show column names\n",
    "print(dd.dtype.names)"
   ]
  },
  {
   "cell_type": "markdown",
   "metadata": {},
   "source": [
    "How many objects do we have?"
   ]
  },
  {
   "cell_type": "code",
   "execution_count": null,
   "metadata": {},
   "outputs": [],
   "source": [
    "len(dd)"
   ]
  },
  {
   "cell_type": "markdown",
   "metadata": {},
   "source": [
    "Map the distribution of objects on the sky"
   ]
  },
  {
   "cell_type": "code",
   "execution_count": null,
   "metadata": {},
   "outputs": [],
   "source": [
    "hist2d(dd['XWIN_WORLD'], dd['YWIN_WORLD'], 256, cmap='gist_stern');\n",
    "xlabel('RA')\n",
    "ylabel('DEC')\n",
    "_ = colorbar()"
   ]
  },
  {
   "cell_type": "markdown",
   "metadata": {},
   "source": [
    "Apply some masking to the catalog"
   ]
  },
  {
   "cell_type": "code",
   "execution_count": null,
   "metadata": {},
   "outputs": [],
   "source": [
    "# FLAG_TILING = 0: duplicate objects due to overlapping tiles\n",
    "# FLAGS != 0: masked objects (bright stars, Messier objects, chip defects, ...)\n",
    "# IMAFLAGS_ISO != 0: SExtractor mask\n",
    "# NGMIX_ELL_NOSHEAR = -10: invalid measurement (e.g. invalid PSF)\n",
    "# NGMIX_FLAGS_NOSHEAR != 1: failed shape measurement\n",
    "\n",
    "mask = (dd['FLAG_TILING'] == 1) & (dd['FLAGS']==0) & (dd['IMAFLAGS_ISO'] == 0) \\\n",
    "  & (dd['NGMIX_ELL_NOSHEAR'][:,0] > -10) \\\n",
    "  & (dd['NGMIX_FLAGS_NOSHEAR'] != 1)[0]"
   ]
  },
  {
   "cell_type": "code",
   "execution_count": null,
   "metadata": {},
   "outputs": [],
   "source": [
    "hist2d(dd['XWIN_WORLD'][mask], dd['YWIN_WORLD'][mask], 256, cmap='gist_stern');\n",
    "xlabel('RA')\n",
    "ylabel('DEC')\n",
    "_ = colorbar()"
   ]
  },
  {
   "cell_type": "markdown",
   "metadata": {},
   "source": [
    "r band magnitude distribution"
   ]
  },
  {
   "cell_type": "code",
   "execution_count": null,
   "metadata": {},
   "outputs": [],
   "source": [
    "hist(dd['MAG_AUTO'], range=(15,26), bins=128);\n",
    "_ = xlabel('magnitude')"
   ]
  },
  {
   "cell_type": "markdown",
   "metadata": {},
   "source": [
    "r band SNR distribution"
   ]
  },
  {
   "cell_type": "code",
   "execution_count": null,
   "metadata": {},
   "outputs": [],
   "source": [
    "hist(dd['SNR_WIN'], range=(0,200), bins=128);\n",
    "_ = xlabel('SNR')"
   ]
  },
  {
   "cell_type": "markdown",
   "metadata": {},
   "source": [
    "Mean ellipticity"
   ]
  },
  {
   "cell_type": "code",
   "execution_count": null,
   "metadata": {},
   "outputs": [],
   "source": [
    "print(dd['NGMIX_ELL_NOSHEAR'].shape)\n",
    "print('mean e1', np.mean(dd['NGMIX_ELL_NOSHEAR'][:,0][mask]))\n",
    "print('mean e2', np.mean(dd['NGMIX_ELL_NOSHEAR'][:,1][mask]))"
   ]
  },
  {
   "cell_type": "code",
   "execution_count": null,
   "metadata": {},
   "outputs": [],
   "source": []
  }
 ],
 "metadata": {
  "kernelspec": {
   "display_name": "Python 3",
   "language": "python",
   "name": "python3"
  },
  "language_info": {
   "codemirror_mode": {
    "name": "ipython",
    "version": 3
   },
   "file_extension": ".py",
   "mimetype": "text/x-python",
   "name": "python",
   "nbconvert_exporter": "python",
   "pygments_lexer": "ipython3",
   "version": "3.8.5"
  }
 },
 "nbformat": 4,
 "nbformat_minor": 5
}
