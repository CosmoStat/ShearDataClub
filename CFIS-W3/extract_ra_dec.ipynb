{
 "cells": [
  {
   "cell_type": "markdown",
   "metadata": {},
   "source": [
    "# UNIONS multi-band catalogue"
   ]
  },
  {
   "cell_type": "code",
   "execution_count": 5,
   "metadata": {},
   "outputs": [],
   "source": [
    "%matplotlib inline\n",
    "%config Completer.use_jedi = False\n",
    "\n",
    "import numpy as np\n",
    "\n",
    "from astropy.io import ascii, fits"
   ]
  },
  {
   "cell_type": "code",
   "execution_count": 16,
   "metadata": {},
   "outputs": [],
   "source": [
    "# Load the multi-band catalogue, matched with spectroscopic DEEP2+3 measurements\n",
    "multi_band_v2_data_base = './multi-band_UNIONS/w3.ugriz.spec'\n",
    "\n",
    "data = ascii.read(f'{multi_band_v2_data_base}.txt')"
   ]
  },
  {
   "cell_type": "code",
   "execution_count": 17,
   "metadata": {},
   "outputs": [
    {
     "name": "stdout",
     "output_type": "stream",
     "text": [
      "     RA        Dec        CFIS_ID      u    u_err ... z_err   sg  z_spec zero\n",
      "----------- ---------- ------------- ------ ----- ... ----- ----- ------ ----\n",
      "214.5213675 52.7520212 2258286007117 21.542 0.029 ... 0.011 2.265 0.2444  0.0\n",
      "214.5722966 52.7502435 2258286007145  -99.0 -99.0 ...  0.11 1.751 1.4011  0.0\n",
      "214.4421597 52.7506248 2258286007149  -99.0 -99.0 ... 0.178 1.206 0.6853  0.0\n",
      " 214.416452 52.7510622 2258286007153  -99.0 -99.0 ... 0.089 1.611 1.1246  0.0\n",
      "214.4705147 52.7509707 2258286007155  -99.0 -99.0 ... -99.0 1.668 0.6144  0.0\n"
     ]
    }
   ],
   "source": [
    "print(data[0:5])"
   ]
  },
  {
   "cell_type": "code",
   "execution_count": 20,
   "metadata": {},
   "outputs": [],
   "source": [
    "primary_hdu = fits.PrimaryHDU()\n",
    "\n",
    "col_ra = fits.Column(array=data['RA'], name='RA', format='D')\n",
    "col_dec = fits.Column(array=data['Dec'], name='Dec', format='D')\n",
    "\n",
    "secondary_hdu = fits.BinTableHDU.from_columns([col_ra, col_dec])\n",
    "\n",
    "hdu_list_out = fits.HDUList(hdus=[primary_hdu, secondary_hdu])\n",
    "hdu_list_out.writeto(f'{multi_band_v2_data_base}_radec.fits', overwrite=True)"
   ]
  },
  {
   "cell_type": "code",
   "execution_count": null,
   "metadata": {
    "collapsed": true
   },
   "outputs": [],
   "source": []
  }
 ],
 "metadata": {
  "kernelspec": {
   "display_name": "Python 3",
   "language": "python",
   "name": "python3"
  },
  "language_info": {
   "codemirror_mode": {
    "name": "ipython",
    "version": 3
   },
   "file_extension": ".py",
   "mimetype": "text/x-python",
   "name": "python",
   "nbconvert_exporter": "python",
   "pygments_lexer": "ipython3",
   "version": "3.6.8"
  }
 },
 "nbformat": 4,
 "nbformat_minor": 2
}
