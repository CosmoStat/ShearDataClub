{
 "cells": [
  {
   "cell_type": "markdown",
   "metadata": {},
   "source": [
    "# Transform UNIONS multi-band catalogue\n",
    "- Extract ra and dec for clustering redshifts.\n",
    "- Write bands in gazpar format (https://gazpar.lam.fr)"
   ]
  },
  {
   "cell_type": "code",
   "execution_count": 10,
   "metadata": {},
   "outputs": [],
   "source": [
    "%matplotlib inline\n",
    "%config Completer.use_jedi = False\n",
    "\n",
    "import numpy as np\n",
    "\n",
    "from astropy.io import ascii, fits\n",
    "from astropy.table import Table"
   ]
  },
  {
   "cell_type": "code",
   "execution_count": 4,
   "metadata": {},
   "outputs": [],
   "source": [
    "# Load the multi-band catalogue, matched with spectroscopic DEEP2+3 measurements\n",
    "multi_band_v2_data_base = './multi-band_UNIONS/w3.ugriz.spec'\n",
    "\n",
    "data = ascii.read(f'{multi_band_v2_data_base}.txt')"
   ]
  },
  {
   "cell_type": "code",
   "execution_count": 5,
   "metadata": {},
   "outputs": [
    {
     "name": "stdout",
     "output_type": "stream",
     "text": [
      "     RA        Dec        CFIS_ID      u    u_err   g    g_err   r    r_err   i    i_err   z    z_err   sg  z_spec zero\n",
      "----------- ---------- ------------- ------ ----- ------ ----- ------ ----- ------ ----- ------ ----- ----- ------ ----\n",
      "214.5213675 52.7520212 2258286007117 21.542 0.029  -99.0 -99.0 20.404 0.008 20.412 0.007 20.467 0.011 2.265 0.2444  0.0\n",
      "214.5722966 52.7502435 2258286007145  -99.0 -99.0  -99.0 -99.0  24.01 0.131 23.632 0.097 23.062  0.11 1.751 1.4011  0.0\n",
      "214.4421597 52.7506248 2258286007149  -99.0 -99.0 24.991 0.055 24.491 0.146 23.951 0.132 23.948 0.178 1.206 0.6853  0.0\n",
      " 214.416452 52.7510622 2258286007153  -99.0 -99.0  -99.0 -99.0 23.897  0.11 23.382 0.074 23.038 0.089 1.611 1.1246  0.0\n",
      "214.4705147 52.7509707 2258286007155  -99.0 -99.0  -99.0 -99.0 24.098 0.143  -99.0 -99.0  -99.0 -99.0 1.668 0.6144  0.0\n"
     ]
    }
   ],
   "source": [
    "print(data[0:5])"
   ]
  },
  {
   "cell_type": "code",
   "execution_count": 50,
   "metadata": {},
   "outputs": [
    {
     "name": "stdout",
     "output_type": "stream",
     "text": [
      "[('RA', '<f8'), ('Dec', '<f8'), ('CFIS_ID', '<i8'), ('u', '<f8'), ('u_err', '<f8'), ('g', '<f8'), ('g_err', '<f8'), ('r', '<f8'), ('r_err', '<f8'), ('i', '<f8'), ('i_err', '<f8'), ('z', '<f8'), ('z_err', '<f8'), ('sg', '<f8'), ('z_spec', '<f8'), ('zero', '<f8')]\n"
     ]
    }
   ],
   "source": [
    "print(data.dtype)"
   ]
  },
  {
   "cell_type": "markdown",
   "metadata": {},
   "source": [
    "## Write coordinates"
   ]
  },
  {
   "cell_type": "code",
   "execution_count": 6,
   "metadata": {},
   "outputs": [],
   "source": [
    "primary_hdu = fits.PrimaryHDU()\n",
    "\n",
    "col_ra = fits.Column(array=data['RA'], name='RA', format='D')\n",
    "col_dec = fits.Column(array=data['Dec'], name='Dec', format='D')\n",
    "\n",
    "secondary_hdu = fits.BinTableHDU.from_columns([col_ra, col_dec])\n",
    "\n",
    "hdu_list_out = fits.HDUList(hdus=[primary_hdu, secondary_hdu])\n",
    "hdu_list_out.writeto(f'{multi_band_v2_data_base}_radec.fits', overwrite=True)"
   ]
  },
  {
   "cell_type": "markdown",
   "metadata": {
    "collapsed": true
   },
   "source": [
    "## Write gazpar output format"
   ]
  },
  {
   "cell_type": "markdown",
   "metadata": {},
   "source": [
    "Catalogue format\n",
    "\n",
    "Your catalogue must be an ASCII file containing the following columns in this order:\n",
    "\n",
    "[id] [band1] [band1_err] [band2] [band2_err] ... [redshift] [z_flag] [ra] [dec] [mask_flag]\n",
    "\n",
    "    If the column names are present, the line must be commented out with #;\n",
    "\n",
    "    The identifiers (first column) must be integers;\n",
    "\n",
    "    Missing values must be indicated with -9999.;\n",
    "\n",
    "    Upper limits must be indicated with the value of the upper limit in the flux / magnitude column and a negative number for the error (note that the tools deals differently with upper limits);\n",
    "\n",
    "    Each flux must be associated to a valid error."
   ]
  },
  {
   "cell_type": "markdown",
   "metadata": {},
   "source": [
    "### Mark missing data"
   ]
  },
  {
   "cell_type": "code",
   "execution_count": 19,
   "metadata": {},
   "outputs": [],
   "source": [
    "bands = ['u', 'u_err', 'g', 'g_err', 'r', 'r_err', 'i', 'i_err', 'z', 'z_err']\n",
    "for band in bands:\n",
    "    missing = (data[band] == -99)\n",
    "    data[band][missing] = -9999"
   ]
  },
  {
   "cell_type": "code",
   "execution_count": 20,
   "metadata": {},
   "outputs": [
    {
     "name": "stdout",
     "output_type": "stream",
     "text": [
      "     RA        Dec        CFIS_ID       u     u_err     g     g_err    r    r_err    i     i_err     z     z_err    sg  z_spec zero\n",
      "----------- ---------- ------------- ------- ------- ------- ------- ------ ----- ------- ------- ------- ------- ----- ------ ----\n",
      "214.5213675 52.7520212 2258286007117  21.542   0.029 -9999.0 -9999.0 20.404 0.008  20.412   0.007  20.467   0.011 2.265 0.2444  0.0\n",
      "214.5722966 52.7502435 2258286007145 -9999.0 -9999.0 -9999.0 -9999.0  24.01 0.131  23.632   0.097  23.062    0.11 1.751 1.4011  0.0\n",
      "214.4421597 52.7506248 2258286007149 -9999.0 -9999.0  24.991   0.055 24.491 0.146  23.951   0.132  23.948   0.178 1.206 0.6853  0.0\n",
      " 214.416452 52.7510622 2258286007153 -9999.0 -9999.0 -9999.0 -9999.0 23.897  0.11  23.382   0.074  23.038   0.089 1.611 1.1246  0.0\n",
      "214.4705147 52.7509707 2258286007155 -9999.0 -9999.0 -9999.0 -9999.0 24.098 0.143 -9999.0 -9999.0 -9999.0 -9999.0 1.668 0.6144  0.0\n"
     ]
    }
   ],
   "source": [
    "print(data[0:5])"
   ]
  },
  {
   "cell_type": "code",
   "execution_count": 54,
   "metadata": {},
   "outputs": [],
   "source": [
    "keys = ['CFIS_ID', 'u', 'u_err', 'g', 'g_err', 'r', 'r_err', 'i', 'i_err', 'z', 'z_err',\n",
    "        'z_spec', 'z_flag', 'RA', 'Dec', 'mask_flag']\n",
    "cols = []\n",
    "\n",
    "for key in keys:\n",
    "    if key in ['z_flag', 'mask_flag']:\n",
    "        dat = np.zeros_like(data['CFIS_ID'])\n",
    "    elif key == 'CFIS_ID':\n",
    "        dat = data[key] % 100000\n",
    "    else:\n",
    "        dat = data[key]\n",
    "    cols.append(dat)\n",
    "\n",
    "t = Table(cols, names=keys)\n",
    "with open(f'{multi_band_v2_data_base}_gazpar.txt', 'w') as f:\n",
    "    ascii.write(t, f, Writer=ascii.CommentedHeader, delimiter=' ')"
   ]
  },
  {
   "cell_type": "code",
   "execution_count": null,
   "metadata": {},
   "outputs": [],
   "source": []
  }
 ],
 "metadata": {
  "kernelspec": {
   "display_name": "Python 3 (ipykernel)",
   "language": "python",
   "name": "python3"
  },
  "language_info": {
   "codemirror_mode": {
    "name": "ipython",
    "version": 3
   },
   "file_extension": ".py",
   "mimetype": "text/x-python",
   "name": "python",
   "nbconvert_exporter": "python",
   "pygments_lexer": "ipython3",
   "version": "3.8.0"
  }
 },
 "nbformat": 4,
 "nbformat_minor": 2
}
